{
 "cells": [
  {
   "cell_type": "code",
   "execution_count": 6,
   "id": "06ef4768",
   "metadata": {},
   "outputs": [],
   "source": [
    "'''O(N)'''\n",
    "def missingNumber(nums) -> int:\n",
    "    nums_sorted = sorted(nums)\n",
    "    i = 0\n",
    "    while i < len(nums):\n",
    "        if nums_sorted[i] != i:\n",
    "            return i\n",
    "        i += 1\n",
    "    return len(nums)"
   ]
  },
  {
   "cell_type": "code",
   "execution_count": 7,
   "id": "4d993f53",
   "metadata": {},
   "outputs": [],
   "source": [
    "'''O(N*lnN)'''\n",
    "def missingNumber(nums):\n",
    "    amount = sum(range(len(nums) + 1))\n",
    "    return amount - sum(nums)"
   ]
  },
  {
   "cell_type": "code",
   "execution_count": 8,
   "id": "425cb6a9",
   "metadata": {},
   "outputs": [],
   "source": [
    "'''O(N**2)'''\n",
    "def missingNumber(nums):\n",
    "    nums_sort = list(range(len(nums) + 1))\n",
    "    for i in range(len(nums_sort)):\n",
    "        k = 0\n",
    "        for j in range(len(nums)):\n",
    "            if nums[j] != nums_sort[i]:\n",
    "                k += 1\n",
    "            if k == len(nums):\n",
    "                return nums_sort[i]"
   ]
  }
 ],
 "metadata": {
  "kernelspec": {
   "display_name": "Python 3 (ipykernel)",
   "language": "python",
   "name": "python3"
  },
  "language_info": {
   "codemirror_mode": {
    "name": "ipython",
    "version": 3
   },
   "file_extension": ".py",
   "mimetype": "text/x-python",
   "name": "python",
   "nbconvert_exporter": "python",
   "pygments_lexer": "ipython3",
   "version": "3.9.12"
  }
 },
 "nbformat": 4,
 "nbformat_minor": 5
}
